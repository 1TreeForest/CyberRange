{
 "cells": [
  {
   "cell_type": "code",
   "execution_count": null,
   "metadata": {},
   "outputs": [],
   "source": [
    "# === import packages === #\n",
    "import jieba.posseg as pseg\n",
    "from sklearn.feature_extraction.text import TfidfTransformer\n",
    "from sklearn.feature_extraction.text import CountVectorizer\n",
    "import numpy as np\n",
    "from sklearn.cluster import DBSCAN\n",
    "import pymysql"
   ]
  },
  {
   "cell_type": "code",
   "execution_count": 2,
   "metadata": {},
   "outputs": [],
   "source": [
    "import pymysql\n",
    "conn = pymysql.Connect(  # 配置数据库\n",
    "    host='1.15.220.155',\n",
    "    port=3306,\n",
    "    user='test',\n",
    "    password='991125',\n",
    "    db='spider',\n",
    "    charset='UTF8'\n",
    ")\n",
    "cursor = conn.cursor()\n",
    "\n",
    "sql = 'select group_tag, title, ipc, app from cluster'\n",
    "cursor.execute(sql)\n",
    "\n",
    "dataset = cursor.fetchall()"
   ]
  },
  {
   "cell_type": "code",
   "execution_count": null,
   "metadata": {},
   "outputs": [],
   "source": [
    "X = dataset\n",
    "print(X[0])"
   ]
  },
  {
   "cell_type": "code",
   "execution_count": null,
   "metadata": {},
   "outputs": [],
   "source": [
    "y_pred = DBSCAN().fit_predict(X)"
   ]
  },
  {
   "cell_type": "code",
   "execution_count": 8,
   "metadata": {},
   "outputs": [],
   "source": [
    "import pymysql\n",
    "conn = pymysql.Connect(  # 配置数据库\n",
    "    host='1.15.220.155',\n",
    "    port=3306,\n",
    "    user='test',\n",
    "    password='991125',\n",
    "    db='spider',\n",
    "    charset='UTF8'\n",
    ")\n",
    "cursor = conn.cursor()\n",
    "s = 'select distinct app from cluster'\n",
    "cursor.execute(s)\n",
    "res = cursor.fetchall()\n",
    "n = 0\n",
    "for i in res:\n",
    "    \n",
    "    s = 'update cluster set app_code = %s where app = %s'\n",
    "    cursor.execute(s,[n,i[0]])\n",
    "    # n+=1\n",
    "    conn.commit()\n",
    "    n+=1"
   ]
  }
 ],
 "metadata": {
  "interpreter": {
   "hash": "3e2f342d757fe75c7134a9a9e14ec80e9db4555d736ee05233db2d971dfd27cf"
  },
  "kernelspec": {
   "display_name": "Python 3.9.5 64-bit",
   "language": "python",
   "name": "python3"
  },
  "language_info": {
   "codemirror_mode": {
    "name": "ipython",
    "version": 3
   },
   "file_extension": ".py",
   "mimetype": "text/x-python",
   "name": "python",
   "nbconvert_exporter": "python",
   "pygments_lexer": "ipython3",
   "version": "3.9.5"
  },
  "orig_nbformat": 4
 },
 "nbformat": 4,
 "nbformat_minor": 2
}
