{
 "cells": [
  {
   "cell_type": "code",
   "execution_count": 1,
   "id": "0451e4c2",
   "metadata": {},
   "outputs": [],
   "source": [
    "import pymysql\n",
    "import sklearn\n",
    "import numpy as np\n",
    "from SiteClassify import predict_url"
   ]
  },
  {
   "cell_type": "code",
   "execution_count": 16,
   "id": "b3c80d27",
   "metadata": {},
   "outputs": [],
   "source": [
    "db = pymysql.connect(\n",
    "    host='1.15.220.155',\n",
    "    user='test',\n",
    "    password='991125',\n",
    "    database='spider',\n",
    "    charset='utf8'\n",
    ")"
   ]
  },
  {
   "cell_type": "code",
   "execution_count": 14,
   "id": "3372add8",
   "metadata": {},
   "outputs": [
    {
     "name": "stdout",
     "output_type": "stream",
     "text": [
      " 20 number records has been detected. Got 0 number movie site, 11 not movie site, 8 cant request.\n",
      " 40 number records has been detected. Got 0 number movie site, 14 not movie site, 6 cant request.\n",
      " 60 number records has been detected. Got 1 number movie site, 12 not movie site, 7 cant request.\n",
      " 80 number records has been detected. Got 3 number movie site, 12 not movie site, 5 cant request.\n",
      " 100 number records has been detected. Got 1 number movie site, 15 not movie site, 4 cant request.\n",
      " 120 number records has been detected. Got 3 number movie site, 16 not movie site, 1 cant request.\n",
      " 140 number records has been detected. Got 0 number movie site, 10 not movie site, 10 cant request.\n",
      " 160 number records has been detected. Got 2 number movie site, 13 not movie site, 5 cant request.\n",
      " 180 number records has been detected. Got 1 number movie site, 10 not movie site, 9 cant request.\n",
      " 200 number records has been detected. Got 6 number movie site, 14 not movie site, 0 cant request.\n",
      " 220 number records has been detected. Got 8 number movie site, 9 not movie site, 3 cant request.\n",
      " 240 number records has been detected. Got 3 number movie site, 13 not movie site, 4 cant request.\n",
      " 260 number records has been detected. Got 1 number movie site, 10 not movie site, 9 cant request.\n"
     ]
    },
    {
     "ename": "ValueError",
     "evalue": "Unicode strings with encoding declaration are not supported. Please use bytes input or XML fragments without declaration.",
     "output_type": "error",
     "traceback": [
      "\u001b[1;31m---------------------------------------------------------------------------\u001b[0m",
      "\u001b[1;31mValueError\u001b[0m                                Traceback (most recent call last)",
      "Input \u001b[1;32mIn [14]\u001b[0m, in \u001b[0;36m<module>\u001b[1;34m\u001b[0m\n\u001b[0;32m     16\u001b[0m     count_not_movie \u001b[38;5;241m=\u001b[39m \u001b[38;5;241m0\u001b[39m\n\u001b[0;32m     17\u001b[0m url \u001b[38;5;241m=\u001b[39m results[i][\u001b[38;5;241m0\u001b[39m]\n\u001b[1;32m---> 18\u001b[0m out \u001b[38;5;241m=\u001b[39m \u001b[43mpredict_url\u001b[49m\u001b[43m(\u001b[49m\u001b[43murl\u001b[49m\u001b[43m)\u001b[49m\n\u001b[0;32m     19\u001b[0m \u001b[38;5;28;01mif\u001b[39;00m out \u001b[38;5;241m==\u001b[39m \u001b[38;5;241m2\u001b[39m:\n\u001b[0;32m     20\u001b[0m     count_failed \u001b[38;5;241m+\u001b[39m\u001b[38;5;241m=\u001b[39m \u001b[38;5;241m1\u001b[39m\n",
      "File \u001b[1;32mD:\\github\\CyberRange\\movieSiteClassfier\\SiteClassify.py:28\u001b[0m, in \u001b[0;36mpredict_url\u001b[1;34m(url)\u001b[0m\n\u001b[0;32m     26\u001b[0m     \u001b[38;5;28;01mreturn\u001b[39;00m \u001b[38;5;241m2\u001b[39m\n\u001b[0;32m     27\u001b[0m response\u001b[38;5;241m.\u001b[39mencoding \u001b[38;5;241m=\u001b[39m response\u001b[38;5;241m.\u001b[39mapparent_encoding\n\u001b[1;32m---> 28\u001b[0m html \u001b[38;5;241m=\u001b[39m \u001b[43metree\u001b[49m\u001b[38;5;241;43m.\u001b[39;49m\u001b[43mHTML\u001b[49m\u001b[43m(\u001b[49m\u001b[43mresponse\u001b[49m\u001b[38;5;241;43m.\u001b[39;49m\u001b[43mtext\u001b[49m\u001b[43m)\u001b[49m\n\u001b[0;32m     29\u001b[0m \u001b[38;5;28;01mif\u001b[39;00m html \u001b[38;5;129;01mis\u001b[39;00m \u001b[38;5;28;01mNone\u001b[39;00m:\n\u001b[0;32m     30\u001b[0m     \u001b[38;5;28;01mreturn\u001b[39;00m \u001b[38;5;241m2\u001b[39m\n",
      "File \u001b[1;32msrc\\lxml\\etree.pyx:3200\u001b[0m, in \u001b[0;36mlxml.etree.HTML\u001b[1;34m()\u001b[0m\n",
      "File \u001b[1;32msrc\\lxml\\parser.pxi:1907\u001b[0m, in \u001b[0;36mlxml.etree._parseMemoryDocument\u001b[1;34m()\u001b[0m\n",
      "\u001b[1;31mValueError\u001b[0m: Unicode strings with encoding declaration are not supported. Please use bytes input or XML fragments without declaration."
     ]
    }
   ],
   "source": [
    "c = db.cursor()\n",
    "\n",
    "c.execute('select distinct(url) from results_test where isPMS is NULL')\n",
    "\n",
    "\n",
    "\n",
    "results = list(c.fetchall())\n",
    "count_movie = 0\n",
    "count_not_movie = 0\n",
    "count_failed = 0\n",
    "for i in range(500):\n",
    "    if (i + 1) % 20 == 0:\n",
    "        print(' {} number records has been detected. Got {} number movie site, {} not movie site, {} cant request.'.format(i+1, count_movie, count_not_movie, count_failed))\n",
    "        count_movie = 0\n",
    "        count_failed = 0\n",
    "        count_not_movie = 0\n",
    "    url = results[i][0]\n",
    "    out = predict_url(url)\n",
    "    if out == 2:\n",
    "        count_failed += 1\n",
    "        m = db.cursor()\n",
    "        sql = 'update results_test set isPMS=%s where url =%s'\n",
    "        data = (6, url)\n",
    "        m.execute(sql, data)\n",
    "        db.commit()\n",
    "    if out == 0:\n",
    "        count_not_movie += 1\n",
    "        m = db.cursor()\n",
    "        sql = 'update results_test set isPMS=%s where url =%s'\n",
    "        data = (7, url)\n",
    "        m.execute(sql, data)\n",
    "        db.commit()\n",
    "    elif out == 1:\n",
    "        count_movie += 1\n",
    "        m = db.cursor()\n",
    "        sql = 'update results_test set isPMS = %s where url = %s'\n",
    "        data = (8, url)\n",
    "        m.execute(sql, data)\n",
    "        db.commit()"
   ]
  },
  {
   "cell_type": "code",
   "execution_count": 6,
   "id": "23215b94",
   "metadata": {},
   "outputs": [
    {
     "name": "stdout",
     "output_type": "stream",
     "text": [
      "24\n",
      "8632\n",
      "count: 0\n",
      "time used:1646185759.90s \n"
     ]
    }
   ],
   "source": [
    "from SiteClassify import predict_file\n",
    "import time\n",
    "import os\n",
    "import joblib\n",
    "\n",
    "model = joblib.load('movie_website.pkl')\n",
    "tfidf = joblib.load('tf-idf.pkl')\n",
    "\n",
    "db = pymysql.connect(\n",
    "    host='1.15.220.155',\n",
    "    user='test',\n",
    "    password='991125',\n",
    "    database='spider',\n",
    "    charset='utf8'\n",
    ")\n",
    "\n",
    "\n",
    "c2 = db.cursor()\n",
    "\n",
    "c2.execute('select distinct(domain) from unmarked where isPMS_ml is NULL and html = 1')\n",
    "\n",
    "results = c2.fetchall()\n",
    "\n",
    "results = [i[0] for i in results]\n",
    "\n",
    "file_path = '../splashHtmlCrawler/html/unmarked'\n",
    "\n",
    "dir_results = os.listdir(file_path)\n",
    "\n",
    "print(len(results))\n",
    "print(len(dir_results))\n",
    "\n",
    "\n",
    "crawl_results = []\n",
    "\n",
    "for i in dir_results:\n",
    "    if i.split('.html')[0] in results:\n",
    "        crawl_results.append(i)\n",
    "        \n",
    "print('count: {}'.format(len(crawl_results)))\n",
    "\n",
    "time_a = 0\n",
    "time_b = time.time()\n",
    "for index, domain in enumerate(crawl_results, 1):\n",
    "    if index % 50 == 0:\n",
    "        time_a = time_b\n",
    "        time_b = time.time()\n",
    "        print(' {} number records have been detected, time used: {}'.format(index, time_b - time_a))\n",
    "    file = os.path.join(file_path, domain)\n",
    "    out = predict_file(file, model, tfidf)\n",
    "    m = db.cursor()\n",
    "    domain = domain.split('.html')[0]\n",
    "    sql = 'update unmarked set isPMS_ml=%s where domain = %s'\n",
    "    data = (out, domain)\n",
    "    m.execute(sql, data)\n",
    "    db.commit()\n",
    "    \n",
    "    \n",
    "time_b = time.time()\n",
    "print('time used:{:.2f}s '.format(time_b - time_a))"
   ]
  },
  {
   "cell_type": "code",
   "execution_count": null,
   "id": "071ecba5",
   "metadata": {},
   "outputs": [],
   "source": []
  }
 ],
 "metadata": {
  "kernelspec": {
   "display_name": "pytorch",
   "language": "python",
   "name": "pytorch"
  },
  "language_info": {
   "codemirror_mode": {
    "name": "ipython",
    "version": 3
   },
   "file_extension": ".py",
   "mimetype": "text/x-python",
   "name": "python",
   "nbconvert_exporter": "python",
   "pygments_lexer": "ipython3",
   "version": "3.8.0"
  }
 },
 "nbformat": 4,
 "nbformat_minor": 5
}
